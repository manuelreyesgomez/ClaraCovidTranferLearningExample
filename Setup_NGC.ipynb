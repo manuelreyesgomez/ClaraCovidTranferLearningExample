{
 "cells": [
  {
   "cell_type": "markdown",
   "metadata": {},
   "source": [
    "# NVIDIA GPU Cluster (NGC) applications on Azure Machine Learning"
   ]
  },
  {
   "cell_type": "markdown",
   "metadata": {},
   "source": [
    "### Imports"
   ]
  },
  {
   "cell_type": "code",
   "execution_count": 1,
   "metadata": {},
   "outputs": [],
   "source": [
    "from Azuremlcomputecluster import AzureMLComputeCluster\n",
    "import ngccontent\n",
    "from azureml.core import Workspace, Experiment, Datastore, Dataset, Environment\n",
    "from azureml.core.conda_dependencies import CondaDependencies\n",
    "from azureml.core.runconfig import MpiConfiguration\n",
    "from azureml.core.compute import ComputeTarget, AmlCompute\n",
    "from azureml.core.authentication import InteractiveLoginAuthentication\n",
    "\n",
    "import os\n",
    "from IPython.core.display import display, HTML"
   ]
  },
  {
   "cell_type": "markdown",
   "metadata": {},
   "source": [
    "### Setup"
   ]
  },
  {
   "cell_type": "markdown",
   "metadata": {},
   "source": [
    "#### Workspace\n",
    "\n",
    "Documentation: [Workspace](https://docs.microsoft.com/en-us/python/api/azureml-core/azureml.core.workspace.workspace?view=azure-ml-py)"
   ]
  },
  {
   "cell_type": "code",
   "execution_count": 2,
   "metadata": {},
   "outputs": [
    {
     "name": "stdout",
     "output_type": "stream",
     "text": [
      "\n",
      "Subscription ID: ab221ca4-f098-422d-ab2f-5073b3851e68\n",
      "Resource Group: TutorialTestA\n",
      "Workspace: TutorialTestA1\n",
      "\n"
     ]
    }
   ],
   "source": [
    "configdata = ngccontent.get_config(\"ngc_app_config.json\")\n",
    "\n",
    "subscription_id = configdata[\"azureml_user\"][\"subscription_id\"]\n",
    "resource_group = configdata[\"azureml_user\"][\"resource_group\"]\n",
    "workspace_name = configdata[\"azureml_user\"][\"workspace_name\"] \n",
    "\n",
    "ws = Workspace(\n",
    "    workspace_name=workspace_name\n",
    "    , subscription_id=subscription_id\n",
    "    , resource_group=resource_group\n",
    ")\n",
    "\n",
    "verify = f'''\n",
    "Subscription ID: {subscription_id}\n",
    "Resource Group: {resource_group}\n",
    "Workspace: {workspace_name}\n",
    "'''\n",
    "print(verify)"
   ]
  },
  {
   "cell_type": "code",
   "execution_count": 3,
   "metadata": {},
   "outputs": [
    {
     "name": "stdout",
     "output_type": "stream",
     "text": [
      "\n",
      "vNET RG: TutorialTestA\n",
      "vNET name: TutorialTestA-vnet\n",
      "vNET subnet name: default\n",
      "Compute target: clara-ct\n",
      "Experiment name: clara_setup\n",
      "\n"
     ]
    }
   ],
   "source": [
    "### vnet settings\n",
    "vnet_rg = ws.resource_group\n",
    "vnet_name = configdata[\"aml_compute\"][\"vnet_name\"]\n",
    "subnet_name = configdata[\"aml_compute\"][\"subnet_name\"]\n",
    "\n",
    "### azure ml names\n",
    "ct_name  = configdata[\"aml_compute\"][\"ct_name\"]\n",
    "exp_name = configdata[\"aml_compute\"][\"exp_name\"]\n",
    "\n",
    "### trust but verify\n",
    "verify = f'''\n",
    "vNET RG: {vnet_rg}\n",
    "vNET name: {vnet_name}\n",
    "vNET subnet name: {subnet_name}\n",
    "Compute target: {ct_name}\n",
    "Experiment name: {exp_name}\n",
    "'''\n",
    "print(verify)"
   ]
  },
  {
   "cell_type": "markdown",
   "metadata": {},
   "source": [
    "#### Compute target\n",
    "Documentation: [Compute target](https://docs.microsoft.com/en-us/python/api/azureml-core/azureml.core.compute.amlcompute(class)?view=azure-ml-py)"
   ]
  },
  {
   "cell_type": "code",
   "execution_count": 4,
   "metadata": {},
   "outputs": [
    {
     "name": "stdout",
     "output_type": "stream",
     "text": [
      "Setting up compute target clara-ct with vm_size: Standard_NC24s_v3 with 4 GPUs\n",
      "Creating\n",
      "Succeeded\n",
      "AmlCompute wait for completion finished\n",
      "\n",
      "Minimum number of nodes requested have been provisioned\n"
     ]
    }
   ],
   "source": [
    "if configdata[\"aml_compute\"][\"vm_name\"] in configdata[\"supported_vm_sizes\"].keys():\n",
    "    vm_name = configdata[\"aml_compute\"][\"vm_name\"]\n",
    "    gpus_per_node = configdata[\"supported_vm_sizes\"][vm_name]\n",
    "    \n",
    "    print(\"Setting up compute target {ct_name} with vm_size: {vm_name} with {gpus_per_node} GPUs\".format(ct_name=ct_name,vm_name=vm_name,gpus_per_node=gpus_per_node))\n",
    "    \n",
    "    if ct_name not in ws.compute_targets:\n",
    "        config = AmlCompute.provisioning_configuration(\n",
    "            vm_size=vm_name\n",
    "            , min_nodes=configdata[\"aml_compute\"][\"min_nodes\"]\n",
    "            , max_nodes=configdata[\"aml_compute\"][\"max_nodes\"]\n",
    "            , vnet_resourcegroup_name=vnet_rg\n",
    "            , vnet_name=vnet_name\n",
    "            , subnet_name=subnet_name\n",
    "            , idle_seconds_before_scaledown=configdata[\"aml_compute\"][\"idle_seconds_before_scaledown\"]\n",
    "            , remote_login_port_public_access='Enabled'\n",
    "        )\n",
    "        ct = ComputeTarget.create(ws, ct_name, config)\n",
    "        ct.wait_for_completion(show_output=True)\n",
    "    else:\n",
    "        print(\"Loading Pre-existing Compute Target {ct_name}\".format(ct_name=ct_name)) \n",
    "        ct = ws.compute_targets[ct_name]\n",
    "else:\n",
    "    print(\"Unsupported vm_size {vm_size}\".format(vm_size=vm_name))\n",
    "    print(\"The specified vm size must be one of ...\")\n",
    "    for azure_gpu_vm_size in configdata[\"supported_vm_sizes\"].keys():\n",
    "        print(\"... \" + azure_gpu_vm_size)\n",
    "        raise Exception(\"{vm_size} does not support Pascal or above GPUs\".format(vm_size=vm_name))"
   ]
  },
  {
   "cell_type": "markdown",
   "metadata": {},
   "source": [
    "#### Environment\n",
    "Documentation: [Environment](https://docs.microsoft.com/en-us/python/api/azureml-core/azureml.core.environment?view=azure-ml-py)"
   ]
  },
  {
   "cell_type": "code",
   "execution_count": 5,
   "metadata": {},
   "outputs": [],
   "source": [
    "environment_name=configdata[\"aml_compute\"][\"environment_name\"]\n",
    "python_interpreter = configdata[\"aml_compute\"][\"python_interpreter\"]\n",
    "conda_packages = configdata[\"aml_compute\"][\"conda_packages\"]\n",
    "from azureml.core import ContainerRegistry\n",
    "\n",
    "if environment_name not in ws.environments:\n",
    "    env = Environment(name=environment_name)\n",
    "    env.docker.enabled = configdata[\"aml_compute\"][\"docker_enabled\"]\n",
    "    env.docker.base_image = None\n",
    "    env.docker.base_dockerfile = \"FROM {dockerfile}\".format(dockerfile=configdata[\"ngc_content\"][\"base_dockerfile\"])\n",
    "    env.python.interpreter_path = python_interpreter\n",
    "    env.python.user_managed_dependencies = True\n",
    " \n",
    "    conda_dep = CondaDependencies()\n",
    "\n",
    "    for conda_package in conda_packages:\n",
    "        conda_dep.add_conda_package(conda_package)\n",
    "    \n",
    "    env.python.conda_dependencies = conda_dep\n",
    "    env.register(workspace=ws)\n",
    "    evn = env\n",
    "else:\n",
    "    env = ws.environments[environment_name]"
   ]
  },
  {
   "cell_type": "markdown",
   "metadata": {},
   "source": [
    "#### Additional NGC Content"
   ]
  },
  {
   "cell_type": "code",
   "execution_count": 6,
   "metadata": {},
   "outputs": [
    {
     "name": "stdout",
     "output_type": "stream",
     "text": [
      "-->> /mnt/batch/tasks/shared/LS_root/mounts/clusters/mrgclaratest/code/NGC/clara/clarasdk.zip file already exists locally <<--\n",
      "\n",
      "Uploading an estimated of 109 files\n",
      "Target already exists. Skipping upload for clara/clarasdk.zip\n",
      "Target already exists. Skipping upload for clara/CovidChestXRayClassifier.ipynb\n",
      "Target already exists. Skipping upload for clara/Data_Download.ipynb\n",
      "Target already exists. Skipping upload for clara/download_data.sh\n",
      "Target already exists. Skipping upload for clara/license.txt\n",
      "Target already exists. Skipping upload for clara/readMe.md\n",
      "Target already exists. Skipping upload for clara/TransformInputData.py\n",
      "Target already exists. Skipping upload for clara/Welcome.ipynb\n",
      "Target already exists. Skipping upload for clara/MMARs/AutoML/AutoML.ipynb\n",
      "Target already exists. Skipping upload for clara/MMARs/AutoML/license.txt\n",
      "Target already exists. Skipping upload for clara/MMARs/AutoML/BYOC/myAutoMLController.py\n",
      "Target already exists. Skipping upload for clara/MMARs/AutoML/commands/automl.sh\n",
      "Target already exists. Skipping upload for clara/MMARs/AutoML/commands/automl_train_round.sh\n",
      "Target already exists. Skipping upload for clara/MMARs/AutoML/commands/set_env.sh\n",
      "Target already exists. Skipping upload for clara/MMARs/AutoML/commands/train_W_Config.sh\n",
      "Target already exists. Skipping upload for clara/MMARs/AutoML/config/config_automl.json\n",
      "Target already exists. Skipping upload for clara/MMARs/AutoML/config/config_automl_.json\n",
      "Target already exists. Skipping upload for clara/MMARs/AutoML/config/environment.json\n",
      "Target already exists. Skipping upload for clara/MMARs/AutoML/config/trn_autoML_Enum.json\n",
      "Target already exists. Skipping upload for clara/MMARs/AutoML/config/trn_autoML_Loss_Optimizer.json\n",
      "Target already exists. Skipping upload for clara/MMARs/AutoML/config/trn_autoML_LR_LP.json\n",
      "Target already exists. Skipping upload for clara/MMARs/AutoML/config/trn_autoML_Transform.json\n",
      "Target already exists. Skipping upload for clara/MMARs/AutoML/config/trn_autoML_TransformProb.json\n",
      "Target already exists. Skipping upload for clara/MMARs/AutoML/resources/log.config\n",
      "Target already exists. Skipping upload for clara/MMARs/GettingStarted/AIAA.ipynb\n",
      "Target already exists. Skipping upload for clara/MMARs/GettingStarted/BYOC.ipynb\n",
      "Target already exists. Skipping upload for clara/MMARs/GettingStarted/GettingStarted.ipynb\n",
      "Target already exists. Skipping upload for clara/MMARs/GettingStarted/license.txt\n",
      "Target already exists. Skipping upload for clara/MMARs/GettingStarted/BYOC/myLoss.py\n",
      "Target already exists. Skipping upload for clara/MMARs/GettingStarted/BYOC/myMetric.py\n",
      "Target already exists. Skipping upload for clara/MMARs/GettingStarted/BYOC/myNetworkArch.py\n",
      "Target already exists. Skipping upload for clara/MMARs/GettingStarted/BYOC/myNpLoader.py\n",
      "Target already exists. Skipping upload for clara/MMARs/GettingStarted/BYOC/myTransformation.py\n",
      "Target already exists. Skipping upload for clara/MMARs/GettingStarted/BYOC/__init__.py\n",
      "Target already exists. Skipping upload for clara/MMARs/GettingStarted/commands/export.sh\n",
      "Target already exists. Skipping upload for clara/MMARs/GettingStarted/commands/infer.sh\n",
      "Target already exists. Skipping upload for clara/MMARs/GettingStarted/commands/set_env.sh\n",
      "Target already exists. Skipping upload for clara/MMARs/GettingStarted/commands/train_2gpu.sh\n",
      "Target already exists. Skipping upload for clara/MMARs/GettingStarted/commands/train_2gpu_finetune.sh\n",
      "Target already exists. Skipping upload for clara/MMARs/GettingStarted/commands/train_finetune.sh\n",
      "Target already exists. Skipping upload for clara/MMARs/GettingStarted/commands/train_W_Config.sh\n",
      "Target already exists. Skipping upload for clara/MMARs/GettingStarted/commands/validate.sh\n",
      "Target already exists. Skipping upload for clara/MMARs/GettingStarted/config/config_validation.json\n",
      "Target already exists. Skipping upload for clara/MMARs/GettingStarted/config/config_validation_chpt.json\n",
      "Target already exists. Skipping upload for clara/MMARs/GettingStarted/config/environment.json\n",
      "Target already exists. Skipping upload for clara/MMARs/GettingStarted/config/trn_base.json\n",
      "Target already exists. Skipping upload for clara/MMARs/GettingStarted/config/trn_BYOC_Arch_loss.json\n",
      "Target already exists. Skipping upload for clara/MMARs/GettingStarted/config/trn_BYOC_DataLoader.json\n",
      "Target already exists. Skipping upload for clara/MMARs/GettingStarted/config/trn_BYOC_transform.json\n",
      "Target already exists. Skipping upload for clara/MMARs/GettingStarted/resources/log.config\n",
      "Target already exists. Skipping upload for clara/MMARs/GettingStarted/screenShots/AIAAAnnotation.png\n",
      "Target already exists. Skipping upload for clara/MMARs/GettingStarted/screenShots/AIAAClientServer.png\n",
      "Target already exists. Skipping upload for clara/MMARs/GettingStarted/screenShots/AIAADeepGrow.png\n",
      "Target already exists. Skipping upload for clara/MMARs/GettingStarted/screenShots/AIAASpeedup.png\n",
      "Target already exists. Skipping upload for clara/MMARs/GettingStarted/screenShots/MMAR.png\n",
      "Target already exists. Skipping upload for clara/MMARs/GettingStarted/screenShots/MMARParts.png\n",
      "Target already exists. Skipping upload for clara/MMARs/GettingStarted/screenShots/MultiGPU.png\n",
      "Target already exists. Skipping upload for clara/MMARs/GettingStarted/screenShots/Slicer.png\n",
      "Target already exists. Skipping upload for clara/MMARs/GettingStarted/screenShots/SlicerConfig.png\n",
      "Target already exists. Skipping upload for clara/MMARs/GettingStarted/screenShots/TensorBoard.png\n",
      "Target already exists. Skipping upload for clara/MMARs/GettingStarted/screenShots/TrainBlock.png\n",
      "Target already exists. Skipping upload for clara/MMARs/Performance/license.txt\n",
      "Target already exists. Skipping upload for clara/MMARs/Performance/Performance.ipynb\n",
      "Target already exists. Skipping upload for clara/MMARs/Performance/PerformanceSpleen.ipynb\n",
      "Target already exists. Skipping upload for clara/MMARs/Performance/commands/set_env.sh\n",
      "Target already exists. Skipping upload for clara/MMARs/Performance/commands/train_FakeDS.sh\n",
      "Target already exists. Skipping upload for clara/MMARs/Performance/commands/train_NgpuSpleenDS.sh\n",
      "Target already exists. Skipping upload for clara/MMARs/Performance/commands/train_SpleenDS.sh\n",
      "Target already exists. Skipping upload for clara/MMARs/Performance/config/dataset_original.json\n",
      "Target already exists. Skipping upload for clara/MMARs/Performance/config/environment.json\n",
      "Target already exists. Skipping upload for clara/MMARs/Performance/config/trn_base.json\n",
      "Target already exists. Skipping upload for clara/MMARs/Performance/config/trn_BT.json\n",
      "Target already exists. Skipping upload for clara/MMARs/Performance/config/trn_BT_cache.json\n",
      "Target already exists. Skipping upload for clara/MMARs/Performance/config/trn_BT_cache_TrnV2.json\n",
      "Target already exists. Skipping upload for clara/MMARs/Performance/config/trn_cache.json\n",
      "Target already exists. Skipping upload for clara/MMARs/Performance/config/trn_novograd.json\n",
      "Target already exists. Skipping upload for clara/MMARs/Performance/config/trn_novograd_4gpu.json\n",
      "Target already exists. Skipping upload for clara/MMARs/Performance/config/trn_novograd_amp.json\n",
      "Target already exists. Skipping upload for clara/MMARs/Performance/config/trn_novograd_amp_4gpu.json\n",
      "Target already exists. Skipping upload for clara/MMARs/Performance/configDemo/environmentCXR.json\n",
      "Target already exists. Skipping upload for clara/MMARs/Performance/configDemo/trn1_base.json\n",
      "Target already exists. Skipping upload for clara/MMARs/Performance/configDemo/trn1_BT.json\n",
      "Target already exists. Skipping upload for clara/MMARs/Performance/configDemo/trn1_BT_cache.json\n",
      "Target already exists. Skipping upload for clara/MMARs/Performance/configDemo/trn1_BT_cache_TrnV2.json\n",
      "Target already exists. Skipping upload for clara/MMARs/Performance/configDemo/trn1_cache.json\n",
      "Target already exists. Skipping upload for clara/MMARs/Performance/configDemo/trn2_base.json\n",
      "Target already exists. Skipping upload for clara/MMARs/Performance/configDemo/trn2_keras.json\n",
      "Target already exists. Skipping upload for clara/MMARs/Performance/configDemo/trn2_kerasMultiProc.json\n",
      "Target already exists. Skipping upload for clara/MMARs/Performance/resources/log.config\n",
      "Target already exists. Skipping upload for clara/MMARs/Performance/screenShots/BT.png\n",
      "Target already exists. Skipping upload for clara/MMARs/Performance/screenShots/Cache.png\n",
      "Target already exists. Skipping upload for clara/MMARs/Performance/screenShots/Cache_BT.png\n",
      "Target already exists. Skipping upload for clara/MMARs/Performance/screenShots/DemoAll4Running.png\n",
      "Target already exists. Skipping upload for clara/MMARs/Performance/screenShots/DemoBaseLine.png\n",
      "Target already exists. Skipping upload for clara/MMARs/Performance/screenShots/SpleenSummary.png\n",
      "Target already exists. Skipping upload for clara/sampleData/dataset_28GB.json\n",
      "Target already exists. Skipping upload for clara/sampleData/dataset_28GB_npy.json\n",
      "Target already exists. Skipping upload for clara/sampleData/dataset_60GB.json\n",
      "Target already exists. Skipping upload for clara/sampleData/dataset_autoML8files.json\n",
      "Target already exists. Skipping upload for clara/sampleData/imagesTr/readme.txt\n",
      "Target already exists. Skipping upload for clara/sampleData/imagesTr/spleen_8.nii.gz\n",
      "Target already exists. Skipping upload for clara/sampleData/labelsTr/spleen_8.nii.gz\n",
      "Target already exists. Skipping upload for clara/screenShots/ClaraAI.png\n",
      "Target already exists. Skipping upload for clara/screenShots/left_side_bar.png\n",
      "Target already exists. Skipping upload for clara/screenShots/result.png\n",
      "Target already exists. Skipping upload for clara/screenShots/startDocker.PNG\n",
      "Target already exists. Skipping upload for clara/scripts/installDashBoardInDocker.sh\n",
      "Target already exists. Skipping upload for clara/scripts/startDocker.sh\n",
      "Target already exists. Skipping upload for clara/tmp/readme.txt\n",
      "Uploaded 0 files\n",
      "############################### Upload complete ################################\n"
     ]
    }
   ],
   "source": [
    "for content in configdata[\"ngc_content\"][\"additional_content\"]: \n",
    "    data_dir,targetfile = ngccontent.download(content[\"url\"],content[\"localdirectory\"],content[\"filename\"])\n",
    "    if (content[\"zipped\"]):\n",
    "        ngccontent.unzippedfile(data_dir,targetfile)\n",
    "    ngccontent.upload_data(ws, ws.get_default_datastore(), data_dir, content[\"computedirectory\"])"
   ]
  },
  {
   "cell_type": "markdown",
   "metadata": {},
   "source": [
    "### Create Azure ML Dask cluster"
   ]
  },
  {
   "cell_type": "code",
   "execution_count": 7,
   "metadata": {},
   "outputs": [
    {
     "name": "stdout",
     "output_type": "stream",
     "text": [
      "############################## Setting up cluster ##############################\n",
      "####################### Waiting for compute cluster's IP #######################\n",
      "...................................................................\n",
      "\n",
      "\n",
      "########################### Scheduler: 10.1.3.7:8786 ###########################\n",
      "setsid socat tcp-listen:9000,reuseaddr,fork tcp:10.1.3.7:8888 &\n",
      "########################### Connections established ############################\n"
     ]
    }
   ],
   "source": [
    "amlcluster = AzureMLComputeCluster(\n",
    "              workspace=ws\n",
    "            , compute_target=ct\n",
    "            , initial_node_count=1\n",
    "            , experiment_name=configdata[\"aml_compute\"][\"exp_name\"]\n",
    "            , environment_definition=env\n",
    "            , use_gpu=True\n",
    "            , n_gpus_per_node=1\n",
    "            , jupyter=True\n",
    "            , jupyter_port=configdata[\"aml_compute\"][\"jupyter_port\"]\n",
    "            , dashboard_port=9001\n",
    "            , scheduler_port=9002\n",
    "            , scheduler_idle_timeout=1200\n",
    "            , worker_death_timeout=30\n",
    "            , additional_ports=[]\n",
    "            , datastores=[]\n",
    "            , telemetry_opt_out=True\n",
    "            , asynchronous=False\n",
    "        )"
   ]
  },
  {
   "cell_type": "code",
   "execution_count": 8,
   "metadata": {},
   "outputs": [
    {
     "data": {
      "text/html": [
       "<a href=\"https://mrgclaratest-9000.southcentralus.instances.azureml.net/lab?token=8eeb0b24b70811ea9858000d3aebbda3\">Jupyter Link</a>"
      ],
      "text/plain": [
       "<IPython.core.display.HTML object>"
      ]
     },
     "metadata": {},
     "output_type": "display_data"
    }
   ],
   "source": [
    "display(HTML(\"\"\"<a href=\"{link}\">Jupyter Link</a>\"\"\".format(link=amlcluster.jupyter_link)))"
   ]
  },
  {
   "cell_type": "code",
   "execution_count": null,
   "metadata": {},
   "outputs": [],
   "source": []
  }
 ],
 "metadata": {
  "kernelspec": {
   "display_name": "Python 3",
   "language": "python",
   "name": "python3"
  },
  "language_info": {
   "codemirror_mode": {
    "name": "ipython",
    "version": 3
   },
   "file_extension": ".py",
   "mimetype": "text/x-python",
   "name": "python",
   "nbconvert_exporter": "python",
   "pygments_lexer": "ipython3",
   "version": "3.6.9"
  }
 },
 "nbformat": 4,
 "nbformat_minor": 4
}
